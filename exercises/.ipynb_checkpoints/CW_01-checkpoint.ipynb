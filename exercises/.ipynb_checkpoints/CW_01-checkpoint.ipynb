{
 "cells": [
  {
   "cell_type": "markdown",
   "metadata": {},
   "source": [
    "# More complicated single-qubit gates"
   ]
  },
  {
   "cell_type": "code",
   "execution_count": 3,
   "metadata": {},
   "outputs": [
    {
     "name": "stdout",
     "output_type": "stream",
     "text": [
      "Using matplotlib backend: Qt5Agg\n"
     ]
    }
   ],
   "source": [
    "import numpy as np\n",
    "import pandas as pd\n",
    "import cmath as c\n",
    "from math import pi\n",
    "\n",
    "import qiskit\n",
    "from qiskit.quantum_info.synthesis import euler_angles_1q\n",
    "from qiskit import QuantumCircuit, ClassicalRegister, QuantumRegister, execute\n",
    "from qiskit.tools import visualization\n",
    "from qiskit.quantum_info import state_fidelity\n",
    "from qiskit import BasicAer as Aer\n",
    "\n",
    "import matplotlib.pyplot as plt\n",
    "%matplotlib auto\n",
    "#%matplotlib notebook\n",
    "\n",
    "from IPython.display import Latex\n",
    "from IPython.display import Math\n",
    "\n",
    "import ancillary_functions as anf\n",
    "\n"
   ]
  },
  {
   "cell_type": "markdown",
   "metadata": {},
   "source": [
    "## Single qubit"
   ]
  },
  {
   "cell_type": "markdown",
   "metadata": {},
   "source": [
    "### Arbitrary rotations\n",
    "* In qiskit it is in fact possible to specify aribtary single-qubit rotation, i.e. unitary in SU(2). \n",
    "\n",
    "* It is parametrized in the way described here:\n",
    "https://github.com/Qiskit/qiskit-tutorials/blob/master/qiskit/terra/summary_of_quantum_operations.ipynb\n",
    "\n",
    "* We can create function which creates for us unitary, given list of angles."
   ]
  },
  {
   "cell_type": "code",
   "execution_count": 4,
   "metadata": {},
   "outputs": [],
   "source": [
    "def SU2(theta,phi,lmbda):\n",
    "    arg00=-1j*(phi+lmbda)/2\n",
    "    x00=c.exp(arg00)  \n",
    "    \n",
    "    arg01=-1j*(phi-lmbda)/2  \n",
    "    x01=-c.exp(arg01)      \n",
    "    \n",
    "    arg10=1j*(phi-lmbda)/2 \n",
    "    x10=c.exp(arg10)\n",
    "    \n",
    "    arg11=1j*(phi+lmbda)/2\n",
    "    x11=c.exp(arg11)\n",
    "    \n",
    "    y0=c.cos(theta/2)\n",
    "    y1=c.sin(theta/2)\n",
    "    \n",
    "    M=np.array([[x00*y0,x01*y1],[x10*y1,x11*y0]])\n",
    "        \n",
    "        \n",
    "    return M"
   ]
  },
  {
   "cell_type": "markdown",
   "metadata": {},
   "source": [
    "* The reverse function is available in qiskit. We imported it as 'euler_angles_1q'."
   ]
  },
  {
   "cell_type": "code",
   "execution_count": 5,
   "metadata": {},
   "outputs": [],
   "source": [
    "def create_rotation(theta,axis='x'):\n",
    "    if(axis=='x'):\n",
    "        return SU2(theta,-pi/2,pi/2)\n",
    "    elif(axis=='y'):\n",
    "        return SU2(theta,0,0)\n",
    "    elif(axis=='z'):\n",
    "        return SU2(0,0,theta)\n",
    "    else:\n",
    "        raise KeyError('wrong axis')"
   ]
  },
  {
   "cell_type": "markdown",
   "metadata": {},
   "source": [
    "### Rx rotations"
   ]
  },
  {
   "cell_type": "markdown",
   "metadata": {},
   "source": [
    "* To see how rotations work, we will need Bloch representation. \n",
    "* You may check wikipedia -- https://en.wikipedia.org/wiki/Bloch_sphere#u,v,w_Representation"
   ]
  },
  {
   "cell_type": "code",
   "execution_count": 6,
   "metadata": {},
   "outputs": [],
   "source": [
    "def ket_to_state(ket):\n",
    "    #ketbra product\n",
    "    return np.outer(ket,np.conj(ket))\n",
    "\n",
    "def state_to_Bloch_vector(rho):\n",
    "    if(len(rho.shape)==1):\n",
    "        #shape normalization\n",
    "        rho=rho.reshape(2,1)        \n",
    "    if(rho.shape[1]==1):\n",
    "        #if ket, go to state\n",
    "        rho0=ket_to_state(rho)\n",
    "        rho=rho0\n",
    "\n",
    "        \n",
    "    \n",
    "    #get bloch vector\n",
    "    x=np.real(rho[0,1]+rho[1,0])\n",
    "    y=np.real(1j*(rho[0,1]-rho[1,0]))\n",
    "    z=np.real(rho[0,0]-rho[1,1])\n",
    "    n=[x,y,z]\n",
    "        \n",
    "\n",
    "    return n"
   ]
  },
  {
   "cell_type": "markdown",
   "metadata": {},
   "source": [
    "#### Let's check kets from computational basis"
   ]
  },
  {
   "cell_type": "code",
   "execution_count": 7,
   "metadata": {},
   "outputs": [
    {
     "name": "stdout",
     "output_type": "stream",
     "text": [
      "   0\n",
      "0  1\n",
      "1  0\n"
     ]
    }
   ],
   "source": [
    "ket0=np.array([1,0])\n",
    "anf.print_array(ket0)"
   ]
  },
  {
   "cell_type": "code",
   "execution_count": 8,
   "metadata": {},
   "outputs": [
    {
     "name": "stdout",
     "output_type": "stream",
     "text": [
      "   0  1\n",
      "0  1  0\n",
      "1  0  0\n"
     ]
    }
   ],
   "source": [
    "rho0=ket_to_state(ket0)\n",
    "anf.print_array(rho0)"
   ]
  },
  {
   "cell_type": "code",
   "execution_count": 9,
   "metadata": {},
   "outputs": [
    {
     "name": "stdout",
     "output_type": "stream",
     "text": [
      "[0, 0.0, 1]\n"
     ]
    }
   ],
   "source": [
    "n0=state_to_Bloch_vector(ket0)\n",
    "print(n0)"
   ]
  },
  {
   "cell_type": "code",
   "execution_count": 10,
   "metadata": {},
   "outputs": [],
   "source": [
    "drawing=visualization.plot_bloch_vector(n0, title='z+ state')\n",
    "drawing.show()"
   ]
  },
  {
   "cell_type": "code",
   "execution_count": 11,
   "metadata": {},
   "outputs": [
    {
     "name": "stdout",
     "output_type": "stream",
     "text": [
      "   0\n",
      "0  0\n",
      "1  1\n",
      "[0, 0.0, -1]\n"
     ]
    }
   ],
   "source": [
    "ket1=np.array([0,1]).reshape(2,1)\n",
    "anf.print_array(ket1)\n",
    "n1=state_to_Bloch_vector(ket1)\n",
    "print(n1)"
   ]
  },
  {
   "cell_type": "code",
   "execution_count": 12,
   "metadata": {},
   "outputs": [],
   "source": [
    "drawing=visualization.plot_bloch_vector(n1, title='z- state')\n",
    "drawing.show()"
   ]
  },
  {
   "cell_type": "markdown",
   "metadata": {},
   "source": [
    "#### Now we want to rotate around 'x' axis. \n",
    "We will do the following:\n",
    "* Let's say the angle will be pi/3. \n",
    "* Create rotation matrix using our functions.\n",
    "* Use qiskit's mapper to obtain angles for our unitary.\n",
    "* Simulate statevector using qiskit simulator.\n",
    "* Get it's Bloch vector and plot it."
   ]
  },
  {
   "cell_type": "code",
   "execution_count": 13,
   "metadata": {},
   "outputs": [],
   "source": [
    "#Create rotation matrix\n",
    "theta=pi/3\n",
    "U=create_rotation(theta,axis='x')"
   ]
  },
  {
   "cell_type": "code",
   "execution_count": 14,
   "metadata": {},
   "outputs": [],
   "source": [
    "#Get angles\n",
    "angles=euler_angles_1q(U)"
   ]
  },
  {
   "cell_type": "code",
   "execution_count": 15,
   "metadata": {},
   "outputs": [],
   "source": [
    "#specify variables\n",
    "qrs=1\n",
    "crs=1\n",
    "circuit_name='rotation'\n",
    "nos=8192\n",
    "backend_name='statevector_simulator'\n",
    "backend=Aer.get_backend(backend_name)\n",
    "\n",
    "#get circuit\n",
    "circuit,qreg,creg=anf.create_circuit_draft(qrs=qrs,crs=crs, circuit_name=circuit_name)\n",
    "\n",
    "#Add rotation to the first qubit\n",
    "circuit.u3(angles[0],angles[1],angles[2],qreg[0])\n",
    "\n",
    "\n",
    "#perform experiments\n",
    "job=execute(circuit,backend=backend,shots=nos)\n",
    "results=job.result();\n",
    "\n",
    "rotated_ket=results.get_statevector()"
   ]
  },
  {
   "cell_type": "code",
   "execution_count": 16,
   "metadata": {},
   "outputs": [
    {
     "name": "stdout",
     "output_type": "stream",
     "text": [
      "                         0\n",
      "0  (0.8660254037844387+0j)\n",
      "1    -0.49999999999999994j\n"
     ]
    }
   ],
   "source": [
    "anf.print_array(rotated_ket)"
   ]
  },
  {
   "cell_type": "code",
   "execution_count": 17,
   "metadata": {},
   "outputs": [],
   "source": [
    "#Bloch vector\n",
    "n=state_to_Bloch_vector(rotated_ket)\n",
    "drawing=visualization.plot_bloch_vector(n)\n",
    "drawing.show()"
   ]
  },
  {
   "cell_type": "markdown",
   "metadata": {},
   "source": [
    "## Tasks"
   ]
  },
  {
   "cell_type": "markdown",
   "metadata": {},
   "source": [
    "### a) Rx rotations, continued\n",
    "* a.1) Check what would happen if we started from the |1> state.\n",
    "* a.2) Check to what operation correspond the matrix, which is an adjoint of what we have done."
   ]
  },
  {
   "cell_type": "code",
   "execution_count": 18,
   "metadata": {},
   "outputs": [
    {
     "ename": "SyntaxError",
     "evalue": "invalid syntax (<ipython-input-18-3ee4ca6207d6>, line 2)",
     "output_type": "error",
     "traceback": [
      "\u001b[0;36m  File \u001b[0;32m\"<ipython-input-18-3ee4ca6207d6>\"\u001b[0;36m, line \u001b[0;32m2\u001b[0m\n\u001b[0;31m    theta=\u001b[0m\n\u001b[0m          ^\u001b[0m\n\u001b[0;31mSyntaxError\u001b[0m\u001b[0;31m:\u001b[0m invalid syntax\n"
     ]
    }
   ],
   "source": [
    "#Create rotation matrix\n",
    "theta=\n",
    "U=\n",
    "#get angles\n",
    "angles=\n",
    "\n",
    "#specify variables\n",
    "qrs=1\n",
    "crs=1\n",
    "circuit_name='rotation'\n",
    "nos=8192\n",
    "backend_name='statevector_simulator'\n",
    "backend=Aer.get_backend(backend_name)\n",
    "\n",
    "#get circuit\n",
    "circuit,qreg,creg=anf.create_circuit_draft(qrs=qrs,crs=crs, circuit_name=circuit_name)\n",
    "\n",
    "#ADD things to circuit\n",
    "#...\n",
    "\n",
    "\n",
    "#perform experiments\n",
    "job=execute(circuit,backend=backend,shots=nos)\n",
    "results=job.result();\n",
    "\n",
    "rotated_ket=results.get_statevector()\n",
    "\n",
    "#Bloch vector\n",
    "n=state_to_Bloch_vector(rotated_ket)\n",
    "drawing=visualization.plot_bloch_vector(n)\n",
    "drawing.show()"
   ]
  },
  {
   "cell_type": "markdown",
   "metadata": {},
   "source": [
    "### b) Ry, Rz rotations (optional)\n",
    "* Probably you already get what it's all about, but if you wish to make sure that you do, try similar things with other axes."
   ]
  },
  {
   "cell_type": "code",
   "execution_count": 19,
   "metadata": {},
   "outputs": [],
   "source": [
    "#helper functions\n",
    "def draw_bloch(rho):\n",
    "    n=state_to_Bloch_vector(rotated_ket)\n",
    "    drawing=visualization.plot_bloch_vector(n)\n",
    "    drawing.show()\n",
    "    \n",
    "def get_rotation_angles(theta,axis='x'):\n",
    "    return euler_angles_1q(create_rotation(theta,axis='x'))\n",
    "    "
   ]
  },
  {
   "cell_type": "markdown",
   "metadata": {},
   "source": [
    "### c) Popular gates\n",
    "Check 'optically' what tranformations on the Bloch sphere representation correspond to the following quantum gates:\n",
    "* X gate, \n",
    "* Y gate, \n",
    "* Z gate, \n",
    "* Hadamard gate, \n",
    "* S gate, \n",
    "* T gate.\n",
    "\n",
    "They are all implemented by 'circuit.SMALL_LETTER(qreg[NUMBER])' method\n",
    "\n",
    "Note: You may wish to try different input states to make sure you get right intution.\n",
    "\n"
   ]
  },
  {
   "cell_type": "code",
   "execution_count": null,
   "metadata": {},
   "outputs": [],
   "source": []
  }
 ],
 "metadata": {
  "kernelspec": {
   "display_name": "Python 3",
   "language": "python",
   "name": "python3"
  },
  "language_info": {
   "codemirror_mode": {
    "name": "ipython",
    "version": 3
   },
   "file_extension": ".py",
   "mimetype": "text/x-python",
   "name": "python",
   "nbconvert_exporter": "python",
   "pygments_lexer": "ipython3",
   "version": "3.7.6"
  }
 },
 "nbformat": 4,
 "nbformat_minor": 2
}
