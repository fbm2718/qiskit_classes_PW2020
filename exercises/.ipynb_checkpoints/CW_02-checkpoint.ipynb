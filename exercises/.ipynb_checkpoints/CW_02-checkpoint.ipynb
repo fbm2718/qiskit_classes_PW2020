{
 "cells": [
  {
   "cell_type": "markdown",
   "metadata": {},
   "source": [
    "# Two qubits"
   ]
  },
  {
   "cell_type": "code",
   "execution_count": 1,
   "metadata": {},
   "outputs": [
    {
     "name": "stdout",
     "output_type": "stream",
     "text": [
      "Using matplotlib backend: Qt5Agg\n"
     ]
    }
   ],
   "source": [
    "import numpy as np\n",
    "import pandas as pd\n",
    "import cmath as c\n",
    "from math import pi\n",
    "\n",
    "import qiskit\n",
    "from qiskit.quantum_info.synthesis import euler_angles_1q\n",
    "import qiskit.quantum_info.synthesis.two_qubit_decompose  as two_qubit\n",
    "from qiskit import QuantumCircuit, ClassicalRegister, QuantumRegister, execute\n",
    "from qiskit.tools import visualization\n",
    "from qiskit.quantum_info import state_fidelity\n",
    "from qiskit import BasicAer as Aer\n",
    "\n",
    "import matplotlib.pyplot as plt\n",
    "%matplotlib auto\n",
    "#%matplotlib notebook\n",
    "\n",
    "from IPython.display import Latex\n",
    "from IPython.display import Math\n",
    "\n",
    "import ancillary_functions as anf"
   ]
  },
  {
   "cell_type": "markdown",
   "metadata": {},
   "source": [
    "## Preliminary task \n",
    "### Create two-qubit circuit and perform X gate on one of them. \n",
    "* Try to use it only on first qubit, later only on second qubit. \n",
    "* Test how results are numbered. You may change mapping to classical register when you measure.\n",
    "* Check what is the convention for numbering qubits in state vector.\n",
    "* This may seem a little silly, but it's actually quite easy to get lost in naming conventions if you won't try it yourself."
   ]
  },
  {
   "cell_type": "code",
   "execution_count": 12,
   "metadata": {},
   "outputs": [
    {
     "ename": "SyntaxError",
     "evalue": "invalid syntax (<ipython-input-12-826d2a7bda4a>, line 2)",
     "output_type": "error",
     "traceback": [
      "\u001b[0;36m  File \u001b[0;32m\"<ipython-input-12-826d2a7bda4a>\"\u001b[0;36m, line \u001b[0;32m2\u001b[0m\n\u001b[0;31m    qrs=\u001b[0m\n\u001b[0m        ^\u001b[0m\n\u001b[0;31mSyntaxError\u001b[0m\u001b[0;31m:\u001b[0m invalid syntax\n"
     ]
    }
   ],
   "source": [
    "#specify variables\n",
    "qrs=\n",
    "crs=\n",
    "circuit_name=\n",
    "nos=\n",
    "backend_name=\n",
    "backend=Aer.get_backend(backend_name)\n",
    "\n",
    "circuit,qreg,creg=anf.create_circuit_draft(qrs=qrs,crs=crs, circuit_name=circuit_name)\n",
    "\n",
    "#add things to circuit\n",
    "\n",
    "#....\n",
    "\n",
    "\n",
    "#perform experiments\n",
    "job=execute(circuit,backend=backend,shots=nos)\n",
    "results=job.result();\n",
    "\n",
    "\n",
    "counts=results.get_counts()\n",
    "print(counts)"
   ]
  },
  {
   "cell_type": "markdown",
   "metadata": {},
   "source": [
    "## Two-qubit gates"
   ]
  },
  {
   "cell_type": "markdown",
   "metadata": {},
   "source": [
    "### CNOT\n",
    "* The most important two-qubit gate is controlled-NOT (CNOT) gate.\n",
    "\n",
    "* One qubit is called CONTROL, the other one is called TARGET.\n",
    "\n",
    "* The gate simply applies NOT gate to the TARGET, if CONTROL is in |1> state. \n",
    "* If CONTROL is in |0> state, it does nothing."
   ]
  },
  {
   "cell_type": "code",
   "execution_count": 2,
   "metadata": {},
   "outputs": [
    {
     "name": "stdout",
     "output_type": "stream",
     "text": [
      "{'00': 8192}\n"
     ]
    }
   ],
   "source": [
    "qrs=2\n",
    "crs=2\n",
    "circuit_name='cnot'\n",
    "nos=8192\n",
    "backend_name='qasm_simulator'\n",
    "backend=Aer.get_backend(backend_name)\n",
    "\n",
    "circuit,qreg,creg=anf.create_circuit_draft(qrs=qrs, crs=crs, circuit_name=circuit_name)\n",
    "\n",
    "#CONTROL QUBIT, TARGET QUBIT\n",
    "circuit.cx(qreg[0],qreg[1])\n",
    "\n",
    "#Measure \n",
    "circuit.measure(qreg[0],creg[0])\n",
    "circuit.measure(qreg[1],creg[1])\n",
    "\n",
    "#perform experiments\n",
    "job=execute(circuit,backend=backend,shots=nos)\n",
    "results=job.result();\n",
    "\n",
    "\n",
    "counts=results.get_counts()\n",
    "print(counts)"
   ]
  },
  {
   "cell_type": "markdown",
   "metadata": {},
   "source": [
    "* Since our control qubit is in |0> state, our gate does nothing."
   ]
  },
  {
   "cell_type": "code",
   "execution_count": 3,
   "metadata": {},
   "outputs": [
    {
     "name": "stdout",
     "output_type": "stream",
     "text": [
      "                     ┌─┐   \n",
      "qreg_cnot_0: |0>──■──┤M├───\n",
      "                ┌─┴─┐└╥┘┌─┐\n",
      "qreg_cnot_1: |0>┤ X ├─╫─┤M├\n",
      "                └───┘ ║ └╥┘\n",
      " creg_cnot_0: 0 ══════╩══╬═\n",
      "                         ║ \n",
      " creg_cnot_1: 0 ═════════╩═\n",
      "                           \n"
     ]
    }
   ],
   "source": [
    "print(circuit)"
   ]
  },
  {
   "cell_type": "markdown",
   "metadata": {},
   "source": [
    "### Tasks\n",
    "* a) Check how CNOT works for the other basis states |01>, |10>, |11>\n",
    "* b) Check what happens if you put Hadamard gates on BOTH qubits BEFORE and AFTER cnot gate. "
   ]
  },
  {
   "cell_type": "code",
   "execution_count": null,
   "metadata": {},
   "outputs": [],
   "source": []
  },
  {
   "cell_type": "code",
   "execution_count": null,
   "metadata": {},
   "outputs": [],
   "source": []
  },
  {
   "cell_type": "markdown",
   "metadata": {},
   "source": [
    "## SWAP gate"
   ]
  },
  {
   "cell_type": "markdown",
   "metadata": {},
   "source": [
    "* Next very important two-qubit gate is called SWAP. It swaps two states with each other (in terms of tensor product)."
   ]
  },
  {
   "cell_type": "markdown",
   "metadata": {},
   "source": [
    "### Task\n",
    "* c) Implement two-qubit circuit, which starts with one qubit in |0> state and other in |1> state. (it was done previously)\n",
    "* d) Swap the qubits using circuit.swap(qreg[q0],qreg[q1]) and look how they swap in statevector_simulator.\n",
    "* e) Try this for some superposition states."
   ]
  },
  {
   "cell_type": "code",
   "execution_count": null,
   "metadata": {},
   "outputs": [],
   "source": []
  },
  {
   "cell_type": "code",
   "execution_count": null,
   "metadata": {},
   "outputs": [],
   "source": []
  },
  {
   "cell_type": "markdown",
   "metadata": {},
   "source": [
    "## Bell states"
   ]
  },
  {
   "cell_type": "markdown",
   "metadata": {},
   "source": [
    "* Most famous two-qubit entangled states are so-called Bell states.\n",
    "* For Bell states, (in ideal scenario) we have always perfect correlations between measurement outcomes."
   ]
  },
  {
   "cell_type": "markdown",
   "metadata": {},
   "source": [
    "### Task\n",
    "* e) Try to figure out how to create any of the Bell states using standard quantum gates. \n",
    "(hint: you will need X, H and CNOT).\n",
    "* f) Create a quantum circuit which implements chosen Bell state. Implement it. You may wish to use 'visualization.plot_histogram(counts)' for histogram of results."
   ]
  },
  {
   "cell_type": "code",
   "execution_count": 22,
   "metadata": {},
   "outputs": [],
   "source": []
  },
  {
   "cell_type": "code",
   "execution_count": null,
   "metadata": {},
   "outputs": [],
   "source": []
  }
 ],
 "metadata": {
  "kernelspec": {
   "display_name": "Python 3",
   "language": "python",
   "name": "python3"
  },
  "language_info": {
   "codemirror_mode": {
    "name": "ipython",
    "version": 3
   },
   "file_extension": ".py",
   "mimetype": "text/x-python",
   "name": "python",
   "nbconvert_exporter": "python",
   "pygments_lexer": "ipython3",
   "version": "3.7.6"
  }
 },
 "nbformat": 4,
 "nbformat_minor": 2
}
