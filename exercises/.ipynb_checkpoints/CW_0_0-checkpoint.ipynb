{
 "cells": [
  {
   "cell_type": "markdown",
   "metadata": {
    "raw_mimetype": "text/restructuredtext"
   },
   "source": [
    "# Starting with qiskit"
   ]
  },
  {
   "cell_type": "markdown",
   "metadata": {},
   "source": [
    "## Import useful stuff"
   ]
  },
  {
   "cell_type": "code",
   "execution_count": 1,
   "metadata": {},
   "outputs": [
    {
     "name": "stdout",
     "output_type": "stream",
     "text": [
      "Using matplotlib backend: Qt5Agg\n"
     ]
    }
   ],
   "source": [
    "import numpy as np\n",
    "import pandas as pd\n",
    "from math import pi\n",
    "\n",
    "from qiskit import QuantumCircuit, ClassicalRegister, QuantumRegister, execute\n",
    "from qiskit.tools import visualization\n",
    "from qiskit.quantum_info import state_fidelity\n",
    "from qiskit import BasicAer as Aer\n",
    "\n",
    "import matplotlib.pyplot as plt\n",
    "%matplotlib auto\n",
    "#%matplotlib notebook\n",
    "\n",
    "from IPython.display import Latex\n",
    "from IPython.display import Math\n",
    "\n",
    "import ancillary_functions as anf"
   ]
  },
  {
   "cell_type": "markdown",
   "metadata": {},
   "source": [
    "## Workflow, introduction"
   ]
  },
  {
   "cell_type": "markdown",
   "metadata": {},
   "source": [
    "### 1. Choose backend you wish to use. \n",
    "Available simulators are:\n",
    "     \n",
    "* 'qasm_simulator' -- this simulates the whole quantum circuit, including measurement.\n",
    "* 'unitary_simulator' -- this simulates only the unitary evolution of our system.\n",
    "* 'statevector_simulator' -- this simulates only our ket.\n"
   ]
  },
  {
   "cell_type": "code",
   "execution_count": 2,
   "metadata": {},
   "outputs": [],
   "source": [
    "backend_name='qasm_simulator'\n",
    "#get instance of backend\n",
    "backend=Aer.get_backend(backend_name)"
   ]
  },
  {
   "cell_type": "markdown",
   "metadata": {},
   "source": [
    "### 2. Create instance of quantum circuit. (Here we create a functions which does it for us)"
   ]
  },
  {
   "cell_type": "code",
   "execution_count": 3,
   "metadata": {},
   "outputs": [],
   "source": [
    "def create_circuit_draft(qrs=1,crs=1, circuit_name='qc'):\n",
    "    #qrs - quantum register size\n",
    "    #circuit_name - name of the circuit\n",
    "\n",
    "    #create quantum register\n",
    "    qreg=QuantumRegister(qrs,name='qreg_'+circuit_name)\n",
    "    #crete classical register\n",
    "    creg=ClassicalRegister(crs,name='creg_'+circuit_name)\n",
    "    #create quantum circuit\n",
    "    circuit=QuantumCircuit(qreg,creg,name=circuit_name)\n",
    "    \n",
    "    return circuit,qreg,creg"
   ]
  },
  {
   "cell_type": "markdown",
   "metadata": {},
   "source": [
    "Note: naming is not obligatory, but makes work with a lot of circuits easier."
   ]
  },
  {
   "cell_type": "markdown",
   "metadata": {},
   "source": [
    "### 3. Add gates to your circuit. \n",
    "In this example we have at our disposal two qubits.\n",
    "\n",
    "#### Popular single-qubit quantum gates:\n",
    "* 'x' - NOT gate \n",
    "* 'h' - Hadamard gate\n",
    "\n",
    "Full description of available commands is described, e.g., here -- https://github.com/Qiskit/qiskit-tutorials/blob/master/qiskit/terra/summary_of_quantum_operations.ipynb /"
   ]
  },
  {
   "cell_type": "code",
   "execution_count": 4,
   "metadata": {},
   "outputs": [],
   "source": [
    "#specify quantum and classical register sizes\n",
    "qrs=1\n",
    "crs=1\n",
    "#specify circuit name\n",
    "circuit_name='qc_X'\n",
    "#specify number of shots of experiments (it's for later use). number of shots means just how many times we repeat experiments to obtain statistics\n",
    "nos=8192\n",
    "\n",
    "#get circuit and registers\n",
    "circuit,qreg,creg=create_circuit_draft(qrs=qrs,crs=crs, circuit_name=circuit_name)"
   ]
  },
  {
   "cell_type": "code",
   "execution_count": 5,
   "metadata": {},
   "outputs": [],
   "source": [
    "#add X gate to the qubit '0'\n",
    "circuit.x(qreg[0]);"
   ]
  },
  {
   "cell_type": "markdown",
   "metadata": {},
   "source": [
    "### 4. Perform measurement. "
   ]
  },
  {
   "cell_type": "code",
   "execution_count": 6,
   "metadata": {},
   "outputs": [],
   "source": [
    "#measure qubit and map it to the classical register\n",
    "circuit.measure(qreg[0],creg[0]);"
   ]
  },
  {
   "cell_type": "markdown",
   "metadata": {},
   "source": [
    "Note: Alternative is to use 'circuit.measure(qreg,creg)' with automatic mapping to classical register."
   ]
  },
  {
   "cell_type": "markdown",
   "metadata": {},
   "source": [
    "#### You may wish to visualize circuit."
   ]
  },
  {
   "cell_type": "code",
   "execution_count": 7,
   "metadata": {},
   "outputs": [
    {
     "name": "stderr",
     "output_type": "stream",
     "text": [
      "/home/fbm/anaconda3/lib/python3.7/site-packages/qiskit/circuit/quantumcircuit.py:869: DeprecationWarning: The key \"fold\" in the argument \"style\" is being replaced by the argument \"fold\"\n",
      "  ax=ax)\n",
      "/home/fbm/anaconda3/lib/python3.7/site-packages/qiskit/visualization/matplotlib.py:144: DeprecationWarning: style option/s (comment, usepiformat, compress) is/are not supported\n",
      "  self._style.set_style(style)\n"
     ]
    }
   ],
   "source": [
    "drawing=circuit.draw(output='mpl',style=anf.nice_drawing_style);\n",
    "drawing.show()"
   ]
  },
  {
   "cell_type": "markdown",
   "metadata": {},
   "source": [
    "Alternative, simpler but less nice:"
   ]
  },
  {
   "cell_type": "code",
   "execution_count": 8,
   "metadata": {},
   "outputs": [
    {
     "name": "stdout",
     "output_type": "stream",
     "text": [
      "                ┌───┐┌─┐\n",
      "qreg_qc_X_0: |0>┤ X ├┤M├\n",
      "                └───┘└╥┘\n",
      " creg_qc_X_0: 0 ══════╩═\n",
      "                        \n"
     ]
    }
   ],
   "source": [
    "print(circuit)"
   ]
  },
  {
   "cell_type": "markdown",
   "metadata": {},
   "source": [
    "Note that ket start in |0> state, then we perform some operations and measurements.\n",
    "\n",
    "Measurements results go to classical register."
   ]
  },
  {
   "cell_type": "markdown",
   "metadata": {},
   "source": [
    "### 5. Run experiments"
   ]
  },
  {
   "cell_type": "markdown",
   "metadata": {},
   "source": [
    "#### Reminder: \n",
    "Earlier we have set backend to be 'qasm_simulator' and number of shots to be nos=8192.\n",
    "This is actually the maximal number of runs for the real IBM's devices."
   ]
  },
  {
   "cell_type": "code",
   "execution_count": 9,
   "metadata": {},
   "outputs": [],
   "source": [
    "#conduct job\n",
    "job=execute(circuit,backend=backend,shots=nos)\n",
    "#get results\n",
    "results=job.result();"
   ]
  },
  {
   "cell_type": "markdown",
   "metadata": {},
   "source": [
    "### 6. Analyze results."
   ]
  },
  {
   "cell_type": "markdown",
   "metadata": {},
   "source": [
    "#### For different backend, we have different things to analyze.\n",
    "* 'qasm_simulator' -- we get results of experiment via method 'get_counts()'\n",
    "* 'unitary' -- we get our unitary evolution via method 'get_unitary()'\n",
    "* 'statevector_simulator' -- we get our ket via method 'get_state_vector()'\n"
   ]
  },
  {
   "cell_type": "markdown",
   "metadata": {},
   "source": [
    "#### 'qasm_simulator'"
   ]
  },
  {
   "cell_type": "code",
   "execution_count": 10,
   "metadata": {},
   "outputs": [
    {
     "name": "stdout",
     "output_type": "stream",
     "text": [
      "{'1': 8192}\n"
     ]
    }
   ],
   "source": [
    "counts=results.get_counts()\n",
    "print(counts)"
   ]
  },
  {
   "cell_type": "markdown",
   "metadata": {},
   "source": [
    "So we should have only 1 qubit in only single state |1>. \n",
    "Performing measurement should give result corresponding to first projector |0><0| with probability 0 and second results (|1><1>) with probability 1.\n",
    "No surprises."
   ]
  },
  {
   "cell_type": "markdown",
   "metadata": {},
   "source": [
    "#### 'unitary_simulator'"
   ]
  },
  {
   "cell_type": "markdown",
   "metadata": {},
   "source": [
    "Let's create the same circuit, but without measurement at the end. \n",
    "For some reason, measurement is incompatible with unitary simulator."
   ]
  },
  {
   "cell_type": "code",
   "execution_count": 11,
   "metadata": {},
   "outputs": [],
   "source": [
    "#USE ANOTHER BACKEND\n",
    "backend_name='unitary_simulator'\n",
    "#get instance of backend\n",
    "backend=Aer.get_backend(backend_name)\n",
    "\n",
    "#specify quantum register size\n",
    "qrs=1\n",
    "#specify circuit name\n",
    "circuit_name='qc_X'\n",
    "#specify number of shots of experiments (it's for later use). number of shots means just how many times we repeat experiments to obtain statistics\n",
    "nos=8192\n",
    "\n",
    "#get circuit and registers\n",
    "circuit,qreg,creg=create_circuit_draft(qrs=qrs, circuit_name=circuit_name)\n",
    "circuit.x(qreg[0]);\n",
    "\n",
    "#conduct job\n",
    "job=execute(circuit,backend=backend,shots=nos)\n",
    "#get results\n",
    "results=job.result();"
   ]
  },
  {
   "cell_type": "code",
   "execution_count": 12,
   "metadata": {},
   "outputs": [
    {
     "name": "stdout",
     "output_type": "stream",
     "text": [
      "              0             1\n",
      "0  0.000+0.000j  1.000-0.000j\n",
      "1  1.000+0.000j  0.000+0.000j\n"
     ]
    }
   ],
   "source": [
    "unitary=results.get_unitary()\n",
    "anf.print_array(unitary)"
   ]
  },
  {
   "cell_type": "markdown",
   "metadata": {},
   "source": [
    "So the unitary is, as should be, Pauli 'x' matrix."
   ]
  },
  {
   "cell_type": "code",
   "execution_count": 13,
   "metadata": {},
   "outputs": [],
   "source": [
    "#USE ANOTHER BACKEND\n",
    "backend_name='statevector_simulator'\n",
    "backend=Aer.get_backend(backend_name)\n",
    "job=execute(circuit,backend=backend,shots=nos)\n",
    "results=job.result();"
   ]
  },
  {
   "cell_type": "code",
   "execution_count": 14,
   "metadata": {},
   "outputs": [
    {
     "name": "stdout",
     "output_type": "stream",
     "text": [
      "              0\n",
      "0  0.000+0.000j\n",
      "1  1.000+0.000j\n"
     ]
    }
   ],
   "source": [
    "state_vector=results.get_statevector()\n",
    "anf.print_array(state_vector)"
   ]
  },
  {
   "cell_type": "markdown",
   "metadata": {},
   "source": [
    "After performing NOT gate on state |0> it should go to |1>. Everything is coherent."
   ]
  },
  {
   "cell_type": "markdown",
   "metadata": {},
   "source": [
    "## Super simple exercises"
   ]
  },
  {
   "cell_type": "markdown",
   "metadata": {},
   "source": [
    "### a) Create single-qubit circuit to perform Hadamard gate.\n",
    "* This is of course, just to memorize commands. \n",
    "* You may use different backends and check if you correctly remembered how Hadamard should look."
   ]
  },
  {
   "cell_type": "code",
   "execution_count": 15,
   "metadata": {},
   "outputs": [
    {
     "ename": "SyntaxError",
     "evalue": "invalid syntax (<ipython-input-15-ee1ea1dad905>, line 2)",
     "output_type": "error",
     "traceback": [
      "\u001b[0;36m  File \u001b[0;32m\"<ipython-input-15-ee1ea1dad905>\"\u001b[0;36m, line \u001b[0;32m2\u001b[0m\n\u001b[0;31m    qrs=\u001b[0m\n\u001b[0m        ^\u001b[0m\n\u001b[0;31mSyntaxError\u001b[0m\u001b[0;31m:\u001b[0m invalid syntax\n"
     ]
    }
   ],
   "source": [
    "#specify variables\n",
    "qrs=\n",
    "crs=\n",
    "circuit_name=\n",
    "nos=\n",
    "backend_name=\n",
    "backend=Aer.get_backend(backend_name)\n",
    "\n",
    "circuit,qreg,creg=create_circuit_draft(qrs=qrs, crs=crs, circuit_name=circuit_name)\n",
    "\n",
    "#add things to circuit\n",
    "\n",
    "#....\n",
    "\n",
    "\n",
    "#perform experiments\n",
    "job=execute(circuit,backend=backend,shots=nos)\n",
    "results=job.result();\n",
    "\n",
    "\n",
    "counts=results.get_counts()\n",
    "print(counts)"
   ]
  },
  {
   "cell_type": "code",
   "execution_count": null,
   "metadata": {},
   "outputs": [],
   "source": []
  }
 ],
 "metadata": {
  "celltoolbar": "Raw Cell Format",
  "kernelspec": {
   "display_name": "Python 3",
   "language": "python",
   "name": "python3"
  },
  "language_info": {
   "codemirror_mode": {
    "name": "ipython",
    "version": 3
   },
   "file_extension": ".py",
   "mimetype": "text/x-python",
   "name": "python",
   "nbconvert_exporter": "python",
   "pygments_lexer": "ipython3",
   "version": "3.7.6"
  }
 },
 "nbformat": 4,
 "nbformat_minor": 2
}
