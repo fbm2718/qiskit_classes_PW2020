{
 "cells": [
  {
   "cell_type": "markdown",
   "metadata": {
    "raw_mimetype": "text/restructuredtext"
   },
   "source": [
    "# Starting with qiskit"
   ]
  },
  {
   "cell_type": "markdown",
   "metadata": {},
   "source": [
    "## Import useful stuff"
   ]
  },
  {
   "cell_type": "code",
   "execution_count": null,
   "metadata": {},
   "outputs": [],
   "source": [
    "import numpy as np\n",
    "import pandas as pd\n",
    "\n",
    "from qiskit import QuantumCircuit, ClassicalRegister, QuantumRegister, execute\n",
    "from qiskit.tools import visualization\n",
    "from qiskit import BasicAer as Aer\n",
    "\n",
    "import matplotlib.pyplot as plt\n",
    "%matplotlib auto\n",
    "\n",
    "from IPython.display import Latex\n",
    "from IPython.display import Math\n",
    "\n",
    "import ancillary_functions as anf"
   ]
  },
  {
   "cell_type": "markdown",
   "metadata": {},
   "source": [
    "## Workflow, introduction"
   ]
  },
  {
   "cell_type": "markdown",
   "metadata": {},
   "source": [
    "### 1. Choose backend you wish to use. \n",
    "Available simulators are:\n",
    "     \n",
    "* 'qasm_simulator' -- this simulates the whole quantum circuit, including measurement.\n",
    "* 'unitary_simulator' -- this simulates only the unitary evolution of our system.\n",
    "* 'statevector_simulator' -- this simulates only our ket.\n"
   ]
  },
  {
   "cell_type": "code",
   "execution_count": null,
   "metadata": {},
   "outputs": [],
   "source": [
    "backend_name = 'qasm_simulator'\n",
    "# get instance of backend\n",
    "backend = Aer.get_backend(backend_name)"
   ]
  },
  {
   "cell_type": "markdown",
   "metadata": {},
   "source": [
    "### 2. Create instance of quantum circuit (here we create a functions which does it for us)."
   ]
  },
  {
   "cell_type": "code",
   "execution_count": null,
   "metadata": {},
   "outputs": [],
   "source": [
    "def create_circuit_draft(qrs=1, crs=1, circuit_name='qc'):\n",
    "    # qrs - quantum register size\n",
    "    # circuit_name - name of the circuit\n",
    "\n",
    "    # create quantum register\n",
    "    qreg = QuantumRegister(qrs, name='qreg_' + circuit_name)\n",
    "    # crete classical register\n",
    "    creg = ClassicalRegister(crs, name='creg_' + circuit_name)\n",
    "    # create quantum circuit\n",
    "    circuit = QuantumCircuit(qreg, creg, name=circuit_name)\n",
    "\n",
    "    return circuit, qreg, creg"
   ]
  },
  {
   "cell_type": "markdown",
   "metadata": {},
   "source": [
    "Note: naming is not obligatory, but makes work with a lot of circuits easier."
   ]
  },
  {
   "cell_type": "markdown",
   "metadata": {},
   "source": [
    "### 3. Add gates to your circuit. \n",
    "In this exercise we will work with only a single qubit.\n",
    "\n",
    "#### Popular single-qubit quantum gates:\n",
    "* 'x' - NOT gate \n",
    "* 'h' - Hadamard gate\n",
    "\n",
    "Full description of available commands is available [here](https://quantum-computing.ibm.com/jupyter/tutorial/fundamentals/7_summary_of_quantum_operations.ipynb)."
   ]
  },
  {
   "cell_type": "code",
   "execution_count": null,
   "metadata": {},
   "outputs": [],
   "source": [
    "# specify quantum and classical register sizes\n",
    "qrs = 1\n",
    "crs = 1\n",
    "# specify circuit name\n",
    "circuit_name = 'qc_X'\n",
    "# specify number of shots of experiments (it's for later use). number of shots means just how many times we repeat experiments to obtain statistics\n",
    "nos = 8192\n",
    "\n",
    "# get circuit and registers\n",
    "circuit, qreg, creg = create_circuit_draft(qrs=qrs, crs=crs, circuit_name=circuit_name)\n"
   ]
  },
  {
   "cell_type": "code",
   "execution_count": null,
   "metadata": {},
   "outputs": [],
   "source": [
    "# add X gate to the qubit '0'\n",
    "circuit.x(qreg[0]);"
   ]
  },
  {
   "cell_type": "markdown",
   "metadata": {},
   "source": [
    "### 4. Perform measurement. "
   ]
  },
  {
   "cell_type": "code",
   "execution_count": null,
   "metadata": {},
   "outputs": [],
   "source": [
    "# measure qubit and map it to the classical register\n",
    "circuit.measure(qreg[0], creg[0]);"
   ]
  },
  {
   "cell_type": "markdown",
   "metadata": {},
   "source": [
    "Note: Alternative is to use 'circuit.measure(qreg,creg)' with automatic mapping to classical register."
   ]
  },
  {
   "cell_type": "markdown",
   "metadata": {},
   "source": [
    "#### You may wish to visualize circuit."
   ]
  },
  {
   "cell_type": "code",
   "execution_count": null,
   "metadata": {},
   "outputs": [],
   "source": [
    "#drawing = circuit.draw(output='mpl', style=anf.nice_drawing_style);\n",
    "#drawing.show()"
   ]
  },
  {
   "cell_type": "markdown",
   "metadata": {},
   "source": [
    "Alternative, simpler but less nice:"
   ]
  },
  {
   "cell_type": "code",
   "execution_count": null,
   "metadata": {},
   "outputs": [],
   "source": [
    "#print(circuit)"
   ]
  },
  {
   "cell_type": "markdown",
   "metadata": {},
   "source": [
    "Note that ket start in |0> state, then we perform some operations and measurements.\n",
    "\n",
    "Measurements results go to classical register."
   ]
  },
  {
   "cell_type": "markdown",
   "metadata": {},
   "source": [
    "### 5. Run experiments"
   ]
  },
  {
   "cell_type": "markdown",
   "metadata": {},
   "source": [
    "#### Reminder: \n",
    "Earlier we have set backend to be 'qasm_simulator' and number of shots to be nos=8192.\n",
    "This is actually the maximal number of runs for the real IBM's devices."
   ]
  },
  {
   "cell_type": "code",
   "execution_count": null,
   "metadata": {},
   "outputs": [],
   "source": [
    "# conduct job\n",
    "job = execute(circuit, backend=backend, shots=nos)\n",
    "# get results\n",
    "results = job.result();"
   ]
  },
  {
   "cell_type": "markdown",
   "metadata": {},
   "source": [
    "### 6. Analyze results."
   ]
  },
  {
   "cell_type": "markdown",
   "metadata": {},
   "source": [
    "#### For different backend, we have different things to analyze.\n",
    "* 'qasm_simulator' -- we get results of experiment via method 'get_counts()'\n",
    "* 'unitary' -- we get our unitary evolution via method 'get_unitary()'\n",
    "* 'statevector_simulator' -- we get our ket via method 'get_state_vector()'\n"
   ]
  },
  {
   "cell_type": "markdown",
   "metadata": {},
   "source": [
    "#### 'qasm_simulator'"
   ]
  },
  {
   "cell_type": "code",
   "execution_count": null,
   "metadata": {},
   "outputs": [],
   "source": [
    "counts = results.get_counts()\n",
    "#print(counts)"
   ]
  },
  {
   "cell_type": "markdown",
   "metadata": {},
   "source": [
    "Are the above results as you expected?"
   ]
  },
  {
   "cell_type": "markdown",
   "metadata": {},
   "source": [
    "#### 'unitary_simulator'"
   ]
  },
  {
   "cell_type": "markdown",
   "metadata": {},
   "source": [
    "Let's create the same circuit, but without measurement at the end. \n",
    "In qiskit, measurement is incompatible with unitary simulator."
   ]
  },
  {
   "cell_type": "code",
   "execution_count": null,
   "metadata": {},
   "outputs": [],
   "source": [
    "# USE ANOTHER BACKEND\n",
    "backend_name = 'unitary_simulator'\n",
    "# get instance of backend\n",
    "backend = Aer.get_backend(backend_name)\n",
    "\n",
    "# specify quantum register size\n",
    "qrs = 1\n",
    "# specify circuit name\n",
    "circuit_name = 'qc_X'\n",
    "# specify number of shots of experiments (it's for later use). number of shots means just how many times we repeat experiments to obtain statistics\n",
    "nos = 8192\n",
    "\n",
    "# get circuit and registers\n",
    "circuit, qreg, creg = create_circuit_draft(qrs=qrs, circuit_name=circuit_name)\n",
    "circuit.x(qreg[0]);\n",
    "\n",
    "# conduct job\n",
    "job = execute(circuit, backend=backend, shots=nos)\n",
    "# get results\n",
    "results = job.result();"
   ]
  },
  {
   "cell_type": "code",
   "execution_count": null,
   "metadata": {},
   "outputs": [],
   "source": [
    "unitary = results.get_unitary()\n",
    "#anf.print_array(unitary)"
   ]
  },
  {
   "cell_type": "code",
   "execution_count": null,
   "metadata": {},
   "outputs": [],
   "source": [
    "# USE ANOTHER BACKEND\n",
    "backend_name = 'statevector_simulator'\n",
    "backend = Aer.get_backend(backend_name)\n",
    "job = execute(circuit, backend=backend, shots=nos)\n",
    "results = job.result();"
   ]
  },
  {
   "cell_type": "code",
   "execution_count": null,
   "metadata": {},
   "outputs": [],
   "source": [
    "state_vector = results.get_statevector()\n",
    "#anf.print_array(state_vector)"
   ]
  },
  {
   "cell_type": "markdown",
   "metadata": {},
   "source": [
    "We applied NOT gate to state |0>. Is the above result expected?"
   ]
  },
  {
   "cell_type": "markdown",
   "metadata": {},
   "source": [
    "## Simple exercises"
   ]
  },
  {
   "cell_type": "markdown",
   "metadata": {},
   "source": [
    "### a) Create single-qubit circuit to perform Hadamard gate.\n",
    "\n",
    "**i) Use different backends**: \n",
    "* 'unitary_simulator' - to recall how Hadamard gate looks like;\n",
    "* 'statevector_simulator' - to recall what it does with the quantum state;\n",
    "* 'qasm_simulator' - to see the statistical nature of quantum measurements;\n",
    "\n",
    "**ii) Visualize the circuits**\n"
   ]
  },
  {
   "cell_type": "code",
   "execution_count": null,
   "metadata": {},
   "outputs": [],
   "source": [
    "# specify variables\n",
    "qrs =\n",
    "crs =\n",
    "circuit_name =\n",
    "nos =\n",
    "backend_name =\n",
    "backend = Aer.get_backend(backend_name)\n",
    "\n",
    "circuit, qreg, creg = create_circuit_draft(qrs=qrs, crs=crs, circuit_name=circuit_name)\n",
    "\n",
    "# add things to circuit\n",
    "\n",
    "# ....\n",
    "\n",
    "\n",
    "# perform experiments\n",
    "job = execute(circuit, backend=backend, shots=nos)\n",
    "results = job.result();\n",
    "\n",
    "counts = results.get_counts()\n",
    "print(counts)"
   ]
  },
  {
   "cell_type": "markdown",
   "metadata": {},
   "source": [
    "### b) Create single-qubit circuit with X gate followed by Hadamard gate.\n",
    "**i) Use different backends**: \n",
    "* 'statevector_simulator' - try to predict what will be the final state\n",
    "* 'qasm_simulator' - is there a difference in statistics compared to previous exercise? In either case, try to explain it.\n",
    "\n",
    "**ii) Visualize the circuits**"
   ]
  },
  {
   "cell_type": "code",
   "execution_count": null,
   "metadata": {},
   "outputs": [],
   "source": []
  },
  {
   "cell_type": "markdown",
   "metadata": {},
   "source": [
    "### c) Create single-qubit circuit with Hadamard gate, followed by S gate.\n",
    "**i) Use different backends**: \n",
    "* 'statevector_simulator' - again, can you predict what will the final state?\n",
    "* 'qasm_simulator' - as before, is there a difference in statistics compared to previous exercise? In either case, try to explain it.\n",
    "\n",
    "**ii) Add to the above circuit the Y gate. What happens with the quantum state? Try to explain it.**\n",
    "\n",
    "**iii) You are always encouraged to visualize the circuits.**"
   ]
  },
  {
   "cell_type": "code",
   "execution_count": null,
   "metadata": {},
   "outputs": [],
   "source": []
  }
 ],
 "metadata": {
  "celltoolbar": "Raw Cell Format",
  "kernelspec": {
   "display_name": "Python 3",
   "language": "python",
   "name": "python3"
  },
  "language_info": {
   "codemirror_mode": {
    "name": "ipython",
    "version": 3
   },
   "file_extension": ".py",
   "mimetype": "text/x-python",
   "name": "python",
   "nbconvert_exporter": "python",
   "pygments_lexer": "ipython3",
   "version": "3.7.7"
  }
 },
 "nbformat": 4,
 "nbformat_minor": 2
}
