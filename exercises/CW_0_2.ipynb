{
 "cells": [
  {
   "cell_type": "markdown",
   "metadata": {},
   "source": [
    "# Deustch-Jozsa algorithm"
   ]
  },
  {
   "cell_type": "code",
   "execution_count": 1,
   "metadata": {},
   "outputs": [
    {
     "name": "stdout",
     "output_type": "stream",
     "text": [
      "Using matplotlib backend: Qt5Agg\n"
     ]
    }
   ],
   "source": [
    "import numpy as np\n",
    "import pandas as pd\n",
    "import cmath as c\n",
    "from math import pi\n",
    "\n",
    "import qiskit\n",
    "from qiskit.quantum_info.synthesis import euler_angles_1q\n",
    "import qiskit.quantum_info.synthesis.two_qubit_decompose  as two_qubit\n",
    "from qiskit import QuantumCircuit, ClassicalRegister, QuantumRegister, execute\n",
    "from qiskit.tools import visualization\n",
    "from qiskit.quantum_info import state_fidelity\n",
    "from qiskit import BasicAer as Aer\n",
    "\n",
    "import matplotlib.pyplot as plt\n",
    "%matplotlib auto\n",
    "#%matplotlib notebook\n",
    "\n",
    "from IPython.display import Latex\n",
    "from IPython.display import Math\n",
    "\n",
    "import ancillary_functions as anf"
   ]
  },
  {
   "cell_type": "markdown",
   "metadata": {},
   "source": [
    "### Oracles\n",
    "* I have hidden oracles in ancillary_functions. \n",
    "* There are four of them and you can call them using 'anf.oracle(circuit,index)', where index is from 0 to 3. (If you won't pass index, it will choose one randomly.)\n",
    "* Function returns circuit with implemented oracle."
   ]
  },
  {
   "cell_type": "markdown",
   "metadata": {},
   "source": [
    "## Tasks\n",
    "### a) Implement a circuit for two-qubit Deutsch-Jozsa algorithm with various oracles. \n",
    "### b) Write a function which, depending on experimental outcomes, decides if the function is constant or balanced.\n",
    "* Hint: You may wish to use two-qubit qreg, but single-qubit creg.\n",
    "\n"
   ]
  },
  {
   "cell_type": "code",
   "execution_count": 2,
   "metadata": {},
   "outputs": [
    {
     "ename": "SyntaxError",
     "evalue": "invalid syntax (<ipython-input-2-ee1ea1dad905>, line 2)",
     "output_type": "error",
     "traceback": [
      "\u001b[0;36m  File \u001b[0;32m\"<ipython-input-2-ee1ea1dad905>\"\u001b[0;36m, line \u001b[0;32m2\u001b[0m\n\u001b[0;31m    qrs=\u001b[0m\n\u001b[0m        ^\u001b[0m\n\u001b[0;31mSyntaxError\u001b[0m\u001b[0;31m:\u001b[0m invalid syntax\n"
     ]
    }
   ],
   "source": [
    "#specify variables\n",
    "qrs=\n",
    "crs=\n",
    "circuit_name=\n",
    "nos=\n",
    "backend_name=\n",
    "backend=Aer.get_backend(backend_name)\n",
    "\n",
    "circuit,qreg,creg=create_circuit_draft(qrs=qrs, crs=crs, circuit_name=circuit_name)\n",
    "\n",
    "#add things to circuit\n",
    "\n",
    "#....\n",
    "\n",
    "\n",
    "#perform experiments\n",
    "job=execute(circuit,backend=backend,shots=nos)\n",
    "results=job.result();\n",
    "\n",
    "\n",
    "counts=results.get_counts()\n",
    "print(counts)"
   ]
  },
  {
   "cell_type": "code",
   "execution_count": null,
   "metadata": {},
   "outputs": [],
   "source": []
  },
  {
   "cell_type": "markdown",
   "metadata": {},
   "source": [
    "### c) Try to figure out yourself how to create \"oracle\" for at least one possible function {0,1}^2 -> {0,1}.\n",
    "* Of course the answer is already hidden in ancillary_functions, but let's not spoil the fun."
   ]
  },
  {
   "cell_type": "code",
   "execution_count": null,
   "metadata": {},
   "outputs": [],
   "source": []
  }
 ],
 "metadata": {
  "kernelspec": {
   "display_name": "Python 3",
   "language": "python",
   "name": "python3"
  },
  "language_info": {
   "codemirror_mode": {
    "name": "ipython",
    "version": 3
   },
   "file_extension": ".py",
   "mimetype": "text/x-python",
   "name": "python",
   "nbconvert_exporter": "python",
   "pygments_lexer": "ipython3",
   "version": "3.7.6"
  }
 },
 "nbformat": 4,
 "nbformat_minor": 2
}
